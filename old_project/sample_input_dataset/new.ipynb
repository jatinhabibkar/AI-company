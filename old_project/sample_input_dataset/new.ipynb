{
 "cells": [
  {
   "cell_type": "code",
   "execution_count": 58,
   "id": "australian-socket",
   "metadata": {},
   "outputs": [],
   "source": [
    "filexml=\"P00X000-2019092701422.xml\"\n",
    "fileimg=\"P00X000-2019092701422.jpg\"\n",
    "dst=\"output.jpg\"\n",
    "import cv2\n",
    "import shutil"
   ]
  },
  {
   "cell_type": "code",
   "execution_count": 59,
   "id": "alert-fraud",
   "metadata": {},
   "outputs": [],
   "source": [
    "from bs4 import BeautifulSoup\n",
    "infile = open(filexml,\"r\")\n",
    "contents = infile.read()\n",
    "# load xml\n",
    "soup = BeautifulSoup(contents,'xml')\n",
    "# load img\n",
    "img=cv2.imread(fileimg)"
   ]
  },
  {
   "cell_type": "code",
   "execution_count": 60,
   "id": "adolescent-distribution",
   "metadata": {},
   "outputs": [
    {
     "name": "stdout",
     "output_type": "stream",
     "text": [
      "=========\n",
      "bottle\n",
      "117 237\n",
      "274 517\n",
      "=========\n",
      "=========\n",
      "gun\n",
      "249 215\n",
      "444 368\n",
      "=========\n",
      "=========\n",
      "razor_blade\n",
      "319 184\n",
      "360 229\n",
      "=========\n",
      "=========\n",
      "lighter\n",
      "247 158\n",
      "315 217\n",
      "=========\n"
     ]
    }
   ],
   "source": [
    "objects=soup.find_all('object')\n",
    "for ob in objects:\n",
    "    print(\"=========\")\n",
    "    print(ob.find('name').get_text())\n",
    "    print(ob.find('xmin').get_text(),ob.find('ymin').get_text())\n",
    "    print(ob.find('xmax').get_text(),ob.find('ymax').get_text())\n",
    "    print(\"=========\")"
   ]
  },
  {
   "cell_type": "code",
   "execution_count": 61,
   "id": "entitled-patrol",
   "metadata": {},
   "outputs": [],
   "source": [
    "font = cv2.FONT_HERSHEY_SIMPLEX\n",
    "  \n",
    "# org\n",
    "org = (50, 50)\n",
    "  \n",
    "# fontScale\n",
    "fontScale = 1\n",
    "   \n",
    "# Blue color in BGR\n",
    "color = (0, 0, 255)\n",
    "  \n",
    "# Line thickness of 2 px\n",
    "thickness = 2\n",
    "\n",
    "\n",
    "def plotkar(data,filename):\n",
    "    img=cv2.imread(filename)\n",
    "    cv2.rectangle(img,\n",
    "                  (data[\"xmin\"], data[\"ymin\"]),\n",
    "                  (data[\"xmax\"],data[\"ymax\"]), \n",
    "                  (0,0,255),2)\n",
    "    cv2.putText(img,data[\"name\"],(data[\"xmin\"],data[\"ymin\"]),font,\n",
    "                fontScale, color, thickness, cv2.LINE_AA)\n",
    "    cv2.imwrite(filename,img)\n",
    "# make copy"
   ]
  },
  {
   "cell_type": "code",
   "execution_count": 62,
   "id": "cultural-timber",
   "metadata": {},
   "outputs": [
    {
     "name": "stdout",
     "output_type": "stream",
     "text": [
      "{'name': 'bottle', 'xmin': 117, 'xmax': 274, 'ymin': 237, 'ymax': 517}\n",
      "{'name': 'gun', 'xmin': 249, 'xmax': 444, 'ymin': 215, 'ymax': 368}\n",
      "{'name': 'razor_blade', 'xmin': 319, 'xmax': 360, 'ymin': 184, 'ymax': 229}\n",
      "{'name': 'lighter', 'xmin': 247, 'xmax': 315, 'ymin': 158, 'ymax': 217}\n"
     ]
    }
   ],
   "source": [
    "objects=soup.find_all('object')\n",
    "#copy file\n",
    "shutil.copy(fileimg,dst)\n",
    "imagedata={}\n",
    "imagedata[\"imagename\"]=fileimg\n",
    "imagedata[\"timestamp\"]=time.time\n",
    "for ob in objects:\n",
    "    name=ob.find('name').get_text()\n",
    "    xmin= ob.find('xmin').get_text()\n",
    "    xmax=ob.find('xmax').get_text()\n",
    "    ymin=ob.find('ymin').get_text()\n",
    "    ymax=ob.find('ymax').get_text()\n",
    "    data={\n",
    "        \"name\":name,\n",
    "        \"xmin\":int(xmin),\n",
    "        \"xmax\":int(xmax),\n",
    "        \"ymin\":int(ymin),\n",
    "        \"ymax\":int(ymax)\n",
    "    }\n",
    "    plotkar(data,dst)"
   ]
  },
  {
   "cell_type": "code",
   "execution_count": null,
   "id": "blocked-flesh",
   "metadata": {},
   "outputs": [],
   "source": []
  },
  {
   "cell_type": "code",
   "execution_count": null,
   "id": "breathing-indie",
   "metadata": {},
   "outputs": [],
   "source": []
  }
 ],
 "metadata": {
  "kernelspec": {
   "display_name": "Python 3",
   "language": "python",
   "name": "python3"
  },
  "language_info": {
   "codemirror_mode": {
    "name": "ipython",
    "version": 3
   },
   "file_extension": ".py",
   "mimetype": "text/x-python",
   "name": "python",
   "nbconvert_exporter": "python",
   "pygments_lexer": "ipython3",
   "version": "3.8.6"
  }
 },
 "nbformat": 4,
 "nbformat_minor": 5
}
