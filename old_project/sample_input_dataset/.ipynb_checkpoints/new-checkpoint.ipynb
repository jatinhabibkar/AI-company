{
 "cells": [
  {
   "cell_type": "code",
   "execution_count": 1,
   "id": "australian-socket",
   "metadata": {},
   "outputs": [],
   "source": [
    "filexml=\"P00X000-2019092701422.xml\"\n",
    "fileimg=\"P00X000-2019092701422.jpg\"\n",
    "import cv2"
   ]
  },
  {
   "cell_type": "code",
   "execution_count": 2,
   "id": "alert-fraud",
   "metadata": {},
   "outputs": [],
   "source": [
    "from bs4 import BeautifulSoup\n",
    "infile = open(filexml,\"r\")\n",
    "contents = infile.read()\n",
    "soup = BeautifulSoup(contents,'xml')\n",
    "titles = soup.find_all('title')\n",
    "for title in titles:\n",
    "    print(title.get_text())"
   ]
  },
  {
   "cell_type": "code",
   "execution_count": 3,
   "id": "electrical-profit",
   "metadata": {},
   "outputs": [],
   "source": [
    "store=[]"
   ]
  },
  {
   "cell_type": "code",
   "execution_count": 4,
   "id": "adolescent-distribution",
   "metadata": {},
   "outputs": [
    {
     "name": "stdout",
     "output_type": "stream",
     "text": [
      "=========\n",
      "bottle\n",
      "117 237\n",
      "274 517\n",
      "=========\n",
      "=========\n",
      "gun\n",
      "249 215\n",
      "444 368\n",
      "=========\n",
      "=========\n",
      "razor_blade\n",
      "319 184\n",
      "360 229\n",
      "=========\n",
      "=========\n",
      "lighter\n",
      "247 158\n",
      "315 217\n",
      "=========\n"
     ]
    }
   ],
   "source": [
    "objects=soup.find_all('object')\n",
    "for ob in objects:\n",
    "    print(\"=========\")\n",
    "    print(ob.find('name').get_text())\n",
    "    print(ob.find('xmin').get_text(),ob.find('ymin').get_text())\n",
    "    print(ob.find('xmax').get_text(),ob.find('ymax').get_text())\n",
    "    \n",
    "    print(\"=========\")"
   ]
  },
  {
   "cell_type": "code",
   "execution_count": 5,
   "id": "available-equity",
   "metadata": {},
   "outputs": [],
   "source": [
    "import cv2\n",
    "img=cv2.imread(fileimg)"
   ]
  },
  {
   "cell_type": "code",
   "execution_count": 6,
   "id": "cognitive-musician",
   "metadata": {},
   "outputs": [
    {
     "data": {
      "text/plain": [
       "array([[[255, 255, 254],\n",
       "        [255, 255, 254],\n",
       "        [255, 255, 255],\n",
       "        ...,\n",
       "        [  0,   0,   1],\n",
       "        [255, 255, 255],\n",
       "        [255, 255, 255]],\n",
       "\n",
       "       [[255, 255, 254],\n",
       "        [255, 255, 254],\n",
       "        [255, 255, 255],\n",
       "        ...,\n",
       "        [  0,   0,   1],\n",
       "        [255, 255, 255],\n",
       "        [255, 255, 255]],\n",
       "\n",
       "       [[255, 255, 254],\n",
       "        [255, 255, 254],\n",
       "        [255, 255, 255],\n",
       "        ...,\n",
       "        [  0,   0,   1],\n",
       "        [255, 255, 255],\n",
       "        [254, 254, 254]],\n",
       "\n",
       "       ...,\n",
       "\n",
       "       [[255, 255, 255],\n",
       "        [255, 255, 255],\n",
       "        [255, 255, 255],\n",
       "        ...,\n",
       "        [  2,   0,   0],\n",
       "        [255, 255, 255],\n",
       "        [255, 255, 254]],\n",
       "\n",
       "       [[255, 255, 255],\n",
       "        [255, 255, 255],\n",
       "        [255, 255, 255],\n",
       "        ...,\n",
       "        [  2,   0,   0],\n",
       "        [255, 255, 255],\n",
       "        [255, 255, 254]],\n",
       "\n",
       "       [[255, 255, 255],\n",
       "        [255, 255, 255],\n",
       "        [255, 255, 255],\n",
       "        ...,\n",
       "        [  2,   0,   0],\n",
       "        [255, 255, 255],\n",
       "        [255, 255, 254]]], dtype=uint8)"
      ]
     },
     "execution_count": 6,
     "metadata": {},
     "output_type": "execute_result"
    }
   ],
   "source": [
    "cv2.rectangle(img, (117, 237), (274, 517), (0,0,255), 3)"
   ]
  },
  {
   "cell_type": "code",
   "execution_count": 7,
   "id": "entitled-patrol",
   "metadata": {},
   "outputs": [],
   "source": [
    "cv2.imwrite(\"my.png\",img)\n",
    "\n",
    "cv2.imshow(\"lalala\", img)"
   ]
  },
  {
   "cell_type": "code",
   "execution_count": null,
   "id": "cultural-timber",
   "metadata": {},
   "outputs": [],
   "source": [
    "objects=soup.find_all('object')\n",
    "for ob in objects:\n",
    "    print(\"=========\")\n",
    "    print(ob.find('name').get_text())\n",
    "    print(ob.find('xmin').get_text(),ob.find('ymin').get_text())\n",
    "    print(ob.find('xmax').get_text(),ob.find('ymax').get_text())\n",
    "    cv2.rectangle(img, (117, 237), (274, 517), (255,0,0), 2)\n",
    "    print(\"=========\")"
   ]
  }
 ],
 "metadata": {
  "kernelspec": {
   "display_name": "Python 3",
   "language": "python",
   "name": "python3"
  },
  "language_info": {
   "codemirror_mode": {
    "name": "ipython",
    "version": 3
   },
   "file_extension": ".py",
   "mimetype": "text/x-python",
   "name": "python",
   "nbconvert_exporter": "python",
   "pygments_lexer": "ipython3",
   "version": "3.8.6"
  }
 },
 "nbformat": 4,
 "nbformat_minor": 5
}
